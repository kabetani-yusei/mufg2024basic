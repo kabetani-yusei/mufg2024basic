{
  "nbformat": 4,
  "nbformat_minor": 0,
  "metadata": {
    "colab": {
      "provenance": [],
      "collapsed_sections": [
        "1tyD0CzB4Qns",
        "zDOZ3yZO4zu9"
      ]
    },
    "kernelspec": {
      "name": "python3",
      "display_name": "Python 3"
    },
    "language_info": {
      "name": "python"
    }
  },
  "cells": [
    {
      "cell_type": "markdown",
      "source": [
        "<h1>purposeの欠損値をLightGBMにより補完する</h1>"
      ],
      "metadata": {
        "id": "n7SGhI9n39vy"
      }
    },
    {
      "cell_type": "markdown",
      "source": [
        "# 前処理"
      ],
      "metadata": {
        "id": "vHN3MhpX50WZ"
      }
    },
    {
      "cell_type": "markdown",
      "source": [
        "## Google DriveのマウントとSEED値とPathの設定"
      ],
      "metadata": {
        "id": "ve9e5AR44JQB"
      }
    },
    {
      "cell_type": "code",
      "source": [
        "SEED = 3407\n",
        "notebook_name = \"notebook2\"\n",
        "INPUT_PATH = \"/content/drive/MyDrive/input/mufg2024/\"\n",
        "\n",
        "from google.colab import drive\n",
        "drive.mount('/content/drive')"
      ],
      "metadata": {
        "colab": {
          "base_uri": "https://localhost:8080/"
        },
        "id": "YEbMxO3y4PpX",
        "outputId": "dc36547e-c85f-4239-a44a-7d60ee9485c4"
      },
      "execution_count": 1,
      "outputs": [
        {
          "output_type": "stream",
          "name": "stdout",
          "text": [
            "Mounted at /content/drive\n"
          ]
        }
      ]
    },
    {
      "cell_type": "markdown",
      "source": [
        "## ライブラリの読み込み"
      ],
      "metadata": {
        "id": "1tyD0CzB4Qns"
      }
    },
    {
      "cell_type": "code",
      "source": [
        "import pandas as pd\n",
        "import numpy as np\n",
        "import pickle\n",
        "import warnings\n",
        "import os\n",
        "warnings.simplefilter('ignore')  # 不要な警告を表示しない"
      ],
      "metadata": {
        "id": "GdIvSJCH4Uvl"
      },
      "execution_count": 2,
      "outputs": []
    },
    {
      "cell_type": "markdown",
      "source": [
        "## データの読み込み"
      ],
      "metadata": {
        "id": "zDOZ3yZO4zu9"
      }
    },
    {
      "cell_type": "code",
      "source": [
        "train = pd.read_csv(INPUT_PATH + \"train.csv\", index_col=0)\n",
        "test = pd.read_csv(INPUT_PATH + \"test.csv\", index_col=0)"
      ],
      "metadata": {
        "id": "PH3zuOUv44dl"
      },
      "execution_count": 3,
      "outputs": []
    },
    {
      "cell_type": "code",
      "source": [
        "from google.colab import drive\n",
        "drive.mount('/content/drive')"
      ],
      "metadata": {
        "id": "DOkChILkSY9a"
      },
      "execution_count": null,
      "outputs": []
    },
    {
      "cell_type": "markdown",
      "source": [
        "# LightGBMによるpurposeの欠損値補完"
      ],
      "metadata": {
        "id": "uhekIngv576x"
      }
    },
    {
      "cell_type": "code",
      "source": [
        "#前処理\n",
        "category_mapping = {\n",
        "    'major_purchase': 0,\n",
        "    'credit_card': 1,\n",
        "    'debt_consolidation': 2,\n",
        "    'all_other': 3,\n",
        "    'small_business': 4,\n",
        "    'home_improvement': 5,\n",
        "    'educational': 6\n",
        "}\n",
        "# trainに対する操作\n",
        "## 欠損値なし\n",
        "train_df = train.dropna(subset=['purpose'])\n",
        "train_df['purpose'] = train_df['purpose'].map(category_mapping)\n",
        "X_train = train_df.drop(columns=['purpose', 'not.fully.paid'])\n",
        "y_train = train_df['purpose']\n",
        "## 欠損値あり\n",
        "predict_df_train = train[train['purpose'].isnull()]\n",
        "train_predict = predict_df_train.drop(columns=['purpose', 'not.fully.paid'])\n",
        "\n",
        "# testに対する操作\n",
        "## 欠損値あり\n",
        "predict_df_test = test[test['purpose'].isnull()]\n",
        "test_predict = predict_df_test.drop(columns=['purpose'])"
      ],
      "metadata": {
        "id": "O6VSPCal5-wZ"
      },
      "execution_count": 4,
      "outputs": []
    },
    {
      "cell_type": "code",
      "source": [
        "import lightgbm as lgb\n",
        "from lightgbm import LGBMClassifier\n",
        "from sklearn.metrics import log_loss\n",
        "\n",
        "params = {\n",
        "    'objective': 'multiclass',\n",
        "    'metric': 'multi_logloss',\n",
        "    'boosting': 'gbdt',\n",
        "    'num_class': 7,\n",
        "    'n_estimators':1099,\n",
        "    'learning_rate': 0.028887449069387925,\n",
        "    'lambda_l1': 9.478586201360532e-06,\n",
        "    'lambda_l2': 1.6363144983335496,\n",
        "    'num_leaves': 4,\n",
        "    'feature_fraction': 0.5339848265686352,\n",
        "    'bagging_fraction': 0.6677098113435436,\n",
        "    'bagging_freq': 3,\n",
        "    'min_child_samples': 63,\n",
        "    'seed': SEED,\n",
        "    'verbosity': -1,\n",
        "}\n",
        "\n",
        "\n",
        "model = LGBMClassifier(**params)\n",
        "model.fit(X_train, y_train)"
      ],
      "metadata": {
        "colab": {
          "base_uri": "https://localhost:8080/",
          "height": 0
        },
        "id": "Qxc8zS3mGClV",
        "outputId": "b6b3755f-cbc3-40cf-fdbf-d7d3e9c51d1c"
      },
      "execution_count": 5,
      "outputs": [
        {
          "output_type": "execute_result",
          "data": {
            "text/plain": [
              "LGBMClassifier(bagging_fraction=0.6677098113435436, bagging_freq=3,\n",
              "               boosting='gbdt', feature_fraction=0.5339848265686352,\n",
              "               lambda_l1=9.478586201360532e-06, lambda_l2=1.6363144983335496,\n",
              "               learning_rate=0.028887449069387925, metric='multi_logloss',\n",
              "               min_child_samples=63, n_estimators=1099, num_class=7,\n",
              "               num_leaves=4, objective='multiclass', seed=3407, verbosity=-1)"
            ],
            "text/html": [
              "<style>#sk-container-id-1 {color: black;}#sk-container-id-1 pre{padding: 0;}#sk-container-id-1 div.sk-toggleable {background-color: white;}#sk-container-id-1 label.sk-toggleable__label {cursor: pointer;display: block;width: 100%;margin-bottom: 0;padding: 0.3em;box-sizing: border-box;text-align: center;}#sk-container-id-1 label.sk-toggleable__label-arrow:before {content: \"▸\";float: left;margin-right: 0.25em;color: #696969;}#sk-container-id-1 label.sk-toggleable__label-arrow:hover:before {color: black;}#sk-container-id-1 div.sk-estimator:hover label.sk-toggleable__label-arrow:before {color: black;}#sk-container-id-1 div.sk-toggleable__content {max-height: 0;max-width: 0;overflow: hidden;text-align: left;background-color: #f0f8ff;}#sk-container-id-1 div.sk-toggleable__content pre {margin: 0.2em;color: black;border-radius: 0.25em;background-color: #f0f8ff;}#sk-container-id-1 input.sk-toggleable__control:checked~div.sk-toggleable__content {max-height: 200px;max-width: 100%;overflow: auto;}#sk-container-id-1 input.sk-toggleable__control:checked~label.sk-toggleable__label-arrow:before {content: \"▾\";}#sk-container-id-1 div.sk-estimator input.sk-toggleable__control:checked~label.sk-toggleable__label {background-color: #d4ebff;}#sk-container-id-1 div.sk-label input.sk-toggleable__control:checked~label.sk-toggleable__label {background-color: #d4ebff;}#sk-container-id-1 input.sk-hidden--visually {border: 0;clip: rect(1px 1px 1px 1px);clip: rect(1px, 1px, 1px, 1px);height: 1px;margin: -1px;overflow: hidden;padding: 0;position: absolute;width: 1px;}#sk-container-id-1 div.sk-estimator {font-family: monospace;background-color: #f0f8ff;border: 1px dotted black;border-radius: 0.25em;box-sizing: border-box;margin-bottom: 0.5em;}#sk-container-id-1 div.sk-estimator:hover {background-color: #d4ebff;}#sk-container-id-1 div.sk-parallel-item::after {content: \"\";width: 100%;border-bottom: 1px solid gray;flex-grow: 1;}#sk-container-id-1 div.sk-label:hover label.sk-toggleable__label {background-color: #d4ebff;}#sk-container-id-1 div.sk-serial::before {content: \"\";position: absolute;border-left: 1px solid gray;box-sizing: border-box;top: 0;bottom: 0;left: 50%;z-index: 0;}#sk-container-id-1 div.sk-serial {display: flex;flex-direction: column;align-items: center;background-color: white;padding-right: 0.2em;padding-left: 0.2em;position: relative;}#sk-container-id-1 div.sk-item {position: relative;z-index: 1;}#sk-container-id-1 div.sk-parallel {display: flex;align-items: stretch;justify-content: center;background-color: white;position: relative;}#sk-container-id-1 div.sk-item::before, #sk-container-id-1 div.sk-parallel-item::before {content: \"\";position: absolute;border-left: 1px solid gray;box-sizing: border-box;top: 0;bottom: 0;left: 50%;z-index: -1;}#sk-container-id-1 div.sk-parallel-item {display: flex;flex-direction: column;z-index: 1;position: relative;background-color: white;}#sk-container-id-1 div.sk-parallel-item:first-child::after {align-self: flex-end;width: 50%;}#sk-container-id-1 div.sk-parallel-item:last-child::after {align-self: flex-start;width: 50%;}#sk-container-id-1 div.sk-parallel-item:only-child::after {width: 0;}#sk-container-id-1 div.sk-dashed-wrapped {border: 1px dashed gray;margin: 0 0.4em 0.5em 0.4em;box-sizing: border-box;padding-bottom: 0.4em;background-color: white;}#sk-container-id-1 div.sk-label label {font-family: monospace;font-weight: bold;display: inline-block;line-height: 1.2em;}#sk-container-id-1 div.sk-label-container {text-align: center;}#sk-container-id-1 div.sk-container {/* jupyter's `normalize.less` sets `[hidden] { display: none; }` but bootstrap.min.css set `[hidden] { display: none !important; }` so we also need the `!important` here to be able to override the default hidden behavior on the sphinx rendered scikit-learn.org. See: https://github.com/scikit-learn/scikit-learn/issues/21755 */display: inline-block !important;position: relative;}#sk-container-id-1 div.sk-text-repr-fallback {display: none;}</style><div id=\"sk-container-id-1\" class=\"sk-top-container\"><div class=\"sk-text-repr-fallback\"><pre>LGBMClassifier(bagging_fraction=0.6677098113435436, bagging_freq=3,\n",
              "               boosting=&#x27;gbdt&#x27;, feature_fraction=0.5339848265686352,\n",
              "               lambda_l1=9.478586201360532e-06, lambda_l2=1.6363144983335496,\n",
              "               learning_rate=0.028887449069387925, metric=&#x27;multi_logloss&#x27;,\n",
              "               min_child_samples=63, n_estimators=1099, num_class=7,\n",
              "               num_leaves=4, objective=&#x27;multiclass&#x27;, seed=3407, verbosity=-1)</pre><b>In a Jupyter environment, please rerun this cell to show the HTML representation or trust the notebook. <br />On GitHub, the HTML representation is unable to render, please try loading this page with nbviewer.org.</b></div><div class=\"sk-container\" hidden><div class=\"sk-item\"><div class=\"sk-estimator sk-toggleable\"><input class=\"sk-toggleable__control sk-hidden--visually\" id=\"sk-estimator-id-1\" type=\"checkbox\" checked><label for=\"sk-estimator-id-1\" class=\"sk-toggleable__label sk-toggleable__label-arrow\">LGBMClassifier</label><div class=\"sk-toggleable__content\"><pre>LGBMClassifier(bagging_fraction=0.6677098113435436, bagging_freq=3,\n",
              "               boosting=&#x27;gbdt&#x27;, feature_fraction=0.5339848265686352,\n",
              "               lambda_l1=9.478586201360532e-06, lambda_l2=1.6363144983335496,\n",
              "               learning_rate=0.028887449069387925, metric=&#x27;multi_logloss&#x27;,\n",
              "               min_child_samples=63, n_estimators=1099, num_class=7,\n",
              "               num_leaves=4, objective=&#x27;multiclass&#x27;, seed=3407, verbosity=-1)</pre></div></div></div></div></div>"
            ]
          },
          "metadata": {},
          "execution_count": 5
        }
      ]
    },
    {
      "cell_type": "markdown",
      "source": [
        "# modelと予測結果のcsvファイルの保存"
      ],
      "metadata": {
        "id": "HxXtE8CmEHh6"
      }
    },
    {
      "cell_type": "code",
      "source": [
        "# 結果をデータフレームに変換\n",
        "train_pred = model.predict_proba(train_predict)\n",
        "test_pred = model.predict_proba(test_predict)\n",
        "train_pred_df = pd.DataFrame(train_pred, columns=[i for i in range(train_pred.shape[1])])\n",
        "test_pred_df = pd.DataFrame(test_pred, columns=[i for i in range(test_pred.shape[1])])\n",
        "\n",
        "# データフレームをCSV形式で保存\n",
        "train_csv_path = notebook_name + \"_train.csv\"\n",
        "test_csv_path = notebook_name + \"_test.csv\"\n",
        "train_pred_df.to_csv(train_csv_path, index=False)\n",
        "test_pred_df.to_csv(test_csv_path, index=False)"
      ],
      "metadata": {
        "id": "zO4-ziAnAnMl"
      },
      "execution_count": 6,
      "outputs": []
    }
  ]
}