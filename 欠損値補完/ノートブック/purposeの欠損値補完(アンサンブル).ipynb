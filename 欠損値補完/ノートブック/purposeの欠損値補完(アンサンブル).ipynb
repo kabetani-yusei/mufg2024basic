{
  "nbformat": 4,
  "nbformat_minor": 0,
  "metadata": {
    "colab": {
      "provenance": [],
      "collapsed_sections": [
        "ve9e5AR44JQB",
        "1tyD0CzB4Qns",
        "zDOZ3yZO4zu9",
        "HxXtE8CmEHh6"
      ]
    },
    "kernelspec": {
      "name": "python3",
      "display_name": "Python 3"
    },
    "language_info": {
      "name": "python"
    }
  },
  "cells": [
    {
      "cell_type": "markdown",
      "source": [
        "<h1>purposeの欠損値をLightGBMにより補完する</h1>"
      ],
      "metadata": {
        "id": "n7SGhI9n39vy"
      }
    },
    {
      "cell_type": "markdown",
      "source": [
        "# 前処理"
      ],
      "metadata": {
        "id": "vHN3MhpX50WZ"
      }
    },
    {
      "cell_type": "markdown",
      "source": [
        "## Google DriveのマウントとPathの設定"
      ],
      "metadata": {
        "id": "ve9e5AR44JQB"
      }
    },
    {
      "cell_type": "code",
      "source": [
        "INPUT_PATH = \"/content/drive/MyDrive/input/mufg2024/\"\n",
        "\n",
        "from google.colab import drive\n",
        "drive.mount('/content/drive')"
      ],
      "metadata": {
        "colab": {
          "base_uri": "https://localhost:8080/"
        },
        "id": "YEbMxO3y4PpX",
        "outputId": "85de6330-8231-46a5-818b-a4f114d585e7"
      },
      "execution_count": null,
      "outputs": [
        {
          "output_type": "stream",
          "name": "stdout",
          "text": [
            "Drive already mounted at /content/drive; to attempt to forcibly remount, call drive.mount(\"/content/drive\", force_remount=True).\n"
          ]
        }
      ]
    },
    {
      "cell_type": "markdown",
      "source": [
        "## ライブラリの読み込み"
      ],
      "metadata": {
        "id": "1tyD0CzB4Qns"
      }
    },
    {
      "cell_type": "code",
      "source": [
        "import pandas as pd\n",
        "import numpy as np\n",
        "import pickle\n",
        "import warnings\n",
        "import os\n",
        "warnings.simplefilter('ignore')  # 不要な警告を表示しない"
      ],
      "metadata": {
        "id": "GdIvSJCH4Uvl"
      },
      "execution_count": null,
      "outputs": []
    },
    {
      "cell_type": "markdown",
      "source": [
        "## データの読み込み"
      ],
      "metadata": {
        "id": "zDOZ3yZO4zu9"
      }
    },
    {
      "cell_type": "code",
      "source": [
        "train = pd.read_csv(INPUT_PATH + \"train.csv\", index_col=0)\n",
        "test = pd.read_csv(INPUT_PATH + \"test.csv\", index_col=0)"
      ],
      "metadata": {
        "id": "PH3zuOUv44dl"
      },
      "execution_count": null,
      "outputs": []
    },
    {
      "cell_type": "markdown",
      "source": [
        "# アンサンブル（平均）によるpurposeの欠損値補完"
      ],
      "metadata": {
        "id": "uhekIngv576x"
      }
    },
    {
      "cell_type": "code",
      "source": [
        "#前処理\n",
        "category_mapping = {\n",
        "    'major_purchase': 0,\n",
        "    'credit_card': 1,\n",
        "    'debt_consolidation': 2,\n",
        "    'all_other': 3,\n",
        "    'small_business': 4,\n",
        "    'home_improvement': 5,\n",
        "    'educational': 6\n",
        "}\n",
        "train['purpose_non'] = train['purpose'].isna().astype(int)\n",
        "test['purpose_non'] = test['purpose'].isna().astype(int)\n",
        "train['purpose'] = train['purpose'].map(category_mapping)\n",
        "test['purpose'] = test['purpose'].map(category_mapping)"
      ],
      "metadata": {
        "id": "O6VSPCal5-wZ"
      },
      "execution_count": null,
      "outputs": []
    },
    {
      "cell_type": "code",
      "source": [
        "# 読み込むCSVファイルのリスト\n",
        "csv_files_train = [\"notebook1_train.csv\", \"notebook2_train.csv\", \"notebook3_train.csv\", \"notebook4_train.csv\", \"notebook5_train.csv\"]\n",
        "csv_files_test = [\"notebook1_test.csv\", \"notebook2_test.csv\", \"notebook3_test.csv\", \"notebook4_test.csv\", \"notebook5_test.csv\"]\n",
        "\n",
        "# CSVファイルを読み込んで足し合わせる\n",
        "def combine_csv_files(csv_files):\n",
        "    combined_df = None\n",
        "    weight_list = [3, 2, 1, 2, 5]\n",
        "    for file, weight in zip(csv_files, weight_list):\n",
        "        df = pd.read_csv(file)\n",
        "        if combined_df is None:\n",
        "            combined_df = df * weight\n",
        "        else:\n",
        "            combined_df += df * weight\n",
        "    return combined_df\n",
        "\n",
        "\n",
        "# trainデータの補完\n",
        "summed_df_train = combine_csv_files(csv_files_train)\n",
        "max_columns_train = summed_df_train.idxmax(axis=1)\n",
        "missing_indices_train = train[train['purpose'].isna()].index\n",
        "train['purpose'] = train['purpose'].fillna(pd.Series(max_columns_train.values, index=missing_indices_train))\n",
        "\n",
        "# testデータの補完\n",
        "summed_df_test = combine_csv_files(csv_files_test)\n",
        "max_columns_test = summed_df_test.idxmax(axis=1)\n",
        "missing_indices_test = test[test['purpose'].isna()].index\n",
        "test['purpose'] = test['purpose'].fillna(pd.Series(max_columns_test.values, index=missing_indices_test))\n",
        "\n",
        "# int型にそろえる\n",
        "train['purpose'] = train['purpose'].astype(int)\n",
        "test['purpose'] = test['purpose'].astype(int)"
      ],
      "metadata": {
        "id": "eWLB9sZ-dL09"
      },
      "execution_count": null,
      "outputs": []
    },
    {
      "cell_type": "markdown",
      "source": [
        "# csvファイルの保存"
      ],
      "metadata": {
        "id": "HxXtE8CmEHh6"
      }
    },
    {
      "cell_type": "code",
      "source": [
        "train.to_csv('completed_train.csv', index=True)\n",
        "test.to_csv('completed_test.csv', index=True)"
      ],
      "metadata": {
        "id": "oO57mI6kmgUH"
      },
      "execution_count": null,
      "outputs": []
    }
  ]
}