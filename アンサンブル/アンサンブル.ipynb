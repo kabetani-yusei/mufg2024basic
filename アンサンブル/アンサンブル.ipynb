{
  "nbformat": 4,
  "nbformat_minor": 0,
  "metadata": {
    "colab": {
      "provenance": [],
      "collapsed_sections": [
        "tkNZN2EwJ2kl",
        "PKWHA5HzKK9S",
        "PLXryWhsLEHA",
        "VEvzs-0nr3aT",
        "0jMtp28ao3dV",
        "ff-5GsiQiZ8e"
      ]
    },
    "kernelspec": {
      "name": "python3",
      "display_name": "Python 3"
    },
    "language_info": {
      "name": "python"
    }
  },
  "cells": [
    {
      "cell_type": "markdown",
      "source": [
        "# 準備"
      ],
      "metadata": {
        "id": "tkNZN2EwJ2kl"
      }
    },
    {
      "cell_type": "markdown",
      "source": [
        "## Google DriveのマウントとSEED値とPathの設定"
      ],
      "metadata": {
        "id": "PKWHA5HzKK9S"
      }
    },
    {
      "cell_type": "code",
      "source": [
        "INPUT_PATH = \"/content/drive/MyDrive/input/mufg2024/\"\n",
        "OUTPUT_PATH = \"/content/drive/MyDrive/model_save/\"\n",
        "\n",
        "from google.colab import drive\n",
        "drive.mount('/content/drive')"
      ],
      "metadata": {
        "colab": {
          "base_uri": "https://localhost:8080/"
        },
        "id": "tn9WYJggKKIW",
        "outputId": "bf7faed1-8ccf-41f7-f9d4-026844849d26"
      },
      "execution_count": 1,
      "outputs": [
        {
          "output_type": "stream",
          "name": "stdout",
          "text": [
            "Mounted at /content/drive\n"
          ]
        }
      ]
    },
    {
      "cell_type": "markdown",
      "source": [
        "## ライブラリの読み込み"
      ],
      "metadata": {
        "id": "PLXryWhsLEHA"
      }
    },
    {
      "cell_type": "code",
      "execution_count": 2,
      "metadata": {
        "id": "2ZRGNSijJoit"
      },
      "outputs": [],
      "source": [
        "import pandas as pd\n",
        "import matplotlib.pyplot as plt\n",
        "import numpy as np\n",
        "import seaborn as sns\n",
        "import warnings\n",
        "import os\n",
        "from sklearn.metrics import roc_auc_score\n",
        "\n",
        "\n",
        "warnings.simplefilter('ignore')  # 不要な警告を表示しない"
      ]
    },
    {
      "cell_type": "markdown",
      "source": [
        "# データの読み込み"
      ],
      "metadata": {
        "id": "VEvzs-0nr3aT"
      }
    },
    {
      "cell_type": "code",
      "source": [
        "train = pd.read_csv(INPUT_PATH + \"train.csv\", index_col=0)\n",
        "train.dropna(subset=['revol.util', 'revol.bal', 'installment'], inplace=True)\n",
        "train = train[train['int.rate'] < 0.5]\n",
        "y = train[['not.fully.paid']]\n",
        "test = pd.read_csv(INPUT_PATH + \"test.csv\", index_col=0)\n",
        "train_list = ['欠損値なし3_train.csv', '欠損値あり7_train.csv', '欠損値なし2_train.csv', '欠損値あり2_train.csv', '欠損値あり4_train.csv', '欠損値なし4_train.csv']\n",
        "test_list = ['欠損値なし3_test.csv', '欠損値あり7_test.csv', '欠損値なし2_test.csv', '欠損値あり2_test.csv', '欠損値なし4_test.csv', '欠損値あり4_test.csv']"
      ],
      "metadata": {
        "id": "fodPMvltr51A"
      },
      "execution_count": 3,
      "outputs": []
    },
    {
      "cell_type": "markdown",
      "source": [
        "## すべてのファイルの予測値をデータフレームに変える"
      ],
      "metadata": {
        "id": "0jMtp28ao3dV"
      }
    },
    {
      "cell_type": "code",
      "source": [
        "def load_and_concat_files(file_list):\n",
        "    dfs = []\n",
        "    for file in file_list:\n",
        "        # ファイル名から特徴量名を抽出する\n",
        "        feature_name = file.split('_')[0]\n",
        "\n",
        "        df = pd.read_csv(file, header=None)\n",
        "        df_2nd_column = df.iloc[:, [1]]\n",
        "        df_2nd_column.columns = [feature_name]\n",
        "        dfs.append(df_2nd_column)\n",
        "\n",
        "    combined_df = pd.concat(dfs, axis=1, ignore_index=False)\n",
        "    return combined_df\n",
        "\n",
        "# train_listを読み込んで横に結合\n",
        "train_df = load_and_concat_files(train_list)\n",
        "test_df = load_and_concat_files(test_list)"
      ],
      "metadata": {
        "id": "marT-zUisJZr"
      },
      "execution_count": 4,
      "outputs": []
    },
    {
      "cell_type": "markdown",
      "source": [
        "# アンサンブル"
      ],
      "metadata": {
        "id": "iJvk0Z-8vu_k"
      }
    },
    {
      "cell_type": "markdown",
      "source": [
        "## それぞれのaucスコアの算出"
      ],
      "metadata": {
        "id": "ff-5GsiQiZ8e"
      }
    },
    {
      "cell_type": "code",
      "source": [
        "auc_scores = {}\n",
        "for column in train_df.columns:\n",
        "      auc = roc_auc_score(y, train_df[column])\n",
        "      auc_scores[column] = auc\n",
        "for feature, auc in auc_scores.items():\n",
        "    print(f\"Feature: {feature}, AUC: {auc}\")"
      ],
      "metadata": {
        "colab": {
          "base_uri": "https://localhost:8080/"
        },
        "id": "-VYW-31QvxLd",
        "outputId": "ce67279e-7593-4fe6-be5d-4276118bc8b9"
      },
      "execution_count": 5,
      "outputs": [
        {
          "output_type": "stream",
          "name": "stdout",
          "text": [
            "Feature: 欠損値なし3, AUC: 0.7970528351153632\n",
            "Feature: 欠損値あり7, AUC: 0.797237481180898\n",
            "Feature: 欠損値なし2, AUC: 0.7969078775784433\n",
            "Feature: 欠損値あり2, AUC: 0.7967936912700211\n",
            "Feature: 欠損値あり4, AUC: 0.7965918742607592\n",
            "Feature: 欠損値なし4, AUC: 0.7963155454507777\n"
          ]
        }
      ]
    },
    {
      "cell_type": "markdown",
      "source": [
        "## 加える重みの定義"
      ],
      "metadata": {
        "id": "8xS2MtMWjcbF"
      }
    },
    {
      "cell_type": "code",
      "source": [
        "# 1つ目\n",
        "initial_feature_weights = {\n",
        "    '欠損値なし3': 0.289,\n",
        "    '欠損値あり7': 0.3,\n",
        "    '欠損値なし2': 0.0,\n",
        "    '欠損値あり2': 0.134,\n",
        "    '欠損値あり4': 0.038,\n",
        "    '欠損値なし4': 0.113,\n",
        "}\n",
        "total_weight = sum(initial_feature_weights.values())\n",
        "feature_weights_first =  {file: weight / total_weight for file, weight in initial_feature_weights.items()}\n",
        "\n",
        "\n",
        "# 2つ目\n",
        "initial_feature_weights = {\n",
        "    '欠損値なし3': 0.23,\n",
        "    '欠損値あり7': 0.26,\n",
        "    '欠損値なし2': 0.19,\n",
        "    '欠損値あり2': 0.18,\n",
        "    '欠損値あり4': 0.15,\n",
        "    '欠損値なし4': 0.125\n",
        "}\n",
        "total_weight = sum(initial_feature_weights.values())\n",
        "feature_weights_second = {file: weight / total_weight for file, weight in initial_feature_weights.items()}"
      ],
      "metadata": {
        "id": "YE00_KanjArF"
      },
      "execution_count": 6,
      "outputs": []
    },
    {
      "cell_type": "markdown",
      "source": [
        "## アンサンブルの処理"
      ],
      "metadata": {
        "id": "HtJHOq_0j34_"
      }
    },
    {
      "cell_type": "code",
      "source": [
        "def load_and_weighted_avg(df, weights):\n",
        "    weighted_avg = sum(df[feature_name] * weight for feature_name, weight in weights.items())\n",
        "    weighted_avg /= sum(weights.values())\n",
        "    return weighted_avg\n",
        "\n",
        "train_df['average_first'] = load_and_weighted_avg(train_df, feature_weights_first)\n",
        "train_df['average_second'] = load_and_weighted_avg(train_df, feature_weights_second)\n",
        "test_df['average_first'] = load_and_weighted_avg(test_df, feature_weights_first)\n",
        "test_df['average_second'] = load_and_weighted_avg(test_df, feature_weights_second)\n",
        "\n",
        "# aucスコアの算出\n",
        "print(roc_auc_score(y, train_df['average_first']))\n",
        "print(roc_auc_score(y, train_df['average_second']))"
      ],
      "metadata": {
        "colab": {
          "base_uri": "https://localhost:8080/"
        },
        "id": "HouecRq1znuI",
        "outputId": "502dc050-b4e3-41aa-921b-37e3797dd3e2"
      },
      "execution_count": 7,
      "outputs": [
        {
          "output_type": "stream",
          "name": "stdout",
          "text": [
            "0.7981302113510426\n",
            "0.7980449828998151\n"
          ]
        }
      ]
    },
    {
      "cell_type": "markdown",
      "source": [
        "# int.rateの外れ値を除去する"
      ],
      "metadata": {
        "id": "HUkwxBsEr9Jm"
      }
    },
    {
      "cell_type": "code",
      "source": [
        "# テストデータのインデックスを0から振り直し\n",
        "test_df.reset_index(drop=True, inplace=True)\n",
        "test = test[['int.rate']]\n",
        "test.reset_index(drop=True, inplace=True)\n",
        "indices_to_zero = test[test['int.rate'] >= 0.5].index\n",
        "test_df.loc[indices_to_zero, 'average_first'] = 0\n",
        "test_df.loc[indices_to_zero, 'average_second'] = 0"
      ],
      "metadata": {
        "id": "Xs-7ktRz5e8V"
      },
      "execution_count": 8,
      "outputs": []
    },
    {
      "cell_type": "markdown",
      "source": [
        "# 提出ファイルの作成"
      ],
      "metadata": {
        "id": "B4lIUt0WinVl"
      }
    },
    {
      "cell_type": "code",
      "source": [
        "\"\"\"\n",
        "csvにuploadすると有効数字が変わるみたいなので、\n",
        "再現するためにcsvファイルとしてアップロードしてから\n",
        "再び読み込むようにする\n",
        "\"\"\"\n",
        "submit = pd.read_csv(INPUT_PATH + \"sample_submission.csv\", header=None)\n",
        "submit[1] = test_df['average_first'].values\n",
        "submit.to_csv('average_first', header=None, index=False)\n",
        "submit[1] = test_df['average_second'].values\n",
        "submit.to_csv('average_second', header=None, index=False)\n",
        "\n",
        "\"\"\"\n",
        "最後の処理\n",
        "firstとsecondの平均を取って最終提出ファイルとする\n",
        "\"\"\"\n",
        "# 2列目のデータを取得（インデックス1が2列目）\n",
        "first = pd.read_csv('average_first', header=None).iloc[:, 1]\n",
        "second = pd.read_csv('average_second', header=None).iloc[:, 1]\n",
        "combined_col = (first + second) / 2\n",
        "submit[1] = combined_col.values\n",
        "submit.to_csv(\"last_submissionfile.csv\", header=None, index=False)"
      ],
      "metadata": {
        "id": "WXPerdgYrlXs"
      },
      "execution_count": 9,
      "outputs": []
    }
  ]
}